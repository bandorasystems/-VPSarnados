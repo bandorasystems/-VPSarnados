{
 "cells": [
  {
   "cell_type": "code",
   "execution_count": 5,
   "metadata": {},
   "outputs": [],
   "source": [
    "import glob\n",
    "import pandas as pd\n",
    "import numpy as np\n",
    "import datetime\n",
    "import matplotlib.pyplot as plt\n",
    "import seaborn as sns"
   ]
  },
  {
   "cell_type": "markdown",
   "metadata": {},
   "source": [
    "# READ FILES"
   ]
  },
  {
   "cell_type": "code",
   "execution_count": 30,
   "metadata": {},
   "outputs": [
    {
     "name": "stdout",
     "output_type": "stream",
     "text": [
      "['Sheet1']\n"
     ]
    }
   ],
   "source": [
    "glob.glob('..\\ENERATIVA_F\\*.*') #access to the data folder\n",
    "file1 = '..\\ENERATIVA_F\\ENERATIVA_0103_18.xlsx'#Jan-Mar\n",
    "#file1 = '..\\ENERATIVA_F\\ENERATIVA_0103_18_Original.xlsx'#Jan-Mar\n",
    "file2 = '..\\ENERATIVA_F\\ENERATIVA_01_04_2018.xlsx' #Abril\n",
    "file3 = '..\\ENERATIVA_F\\ENERATIVA_01_05_2018.xlsx' #Maio\n",
    "file4 = '..\\ENERATIVA_F\\ENERATIVA_01-06_2018.xlsx'#Jun\n",
    "file5 = '..\\ENERATIVA_F\\ENERATIVA_0312_18.xlsx'#Jul-Dec\n",
    "\n",
    "xl = pd.ExcelFile(file1)\n",
    "EA_0103 = xl.parse('Sheet1')\n",
    "\n",
    "xl = pd.ExcelFile(file2)\n",
    "EA_04 = xl.parse('Sheet1')\n",
    "\n",
    "xl = pd.ExcelFile(file3)\n",
    "EA_05 = xl.parse('Sheet1')\n",
    "\n",
    "xl = pd.ExcelFile(file4)\n",
    "EA_06 = xl.parse('Sheet1')\n",
    "\n",
    "xl = pd.ExcelFile(file5)\n",
    "EA_0712 = xl.parse('Sheet1') \n",
    "###########################################################3\n",
    "# Assign spreadsheet filename to `file`\n",
    "#file = 'WEATHERDATA.xlsx'\n",
    "file = '..\\ENERATIVA_F\\Weather\\WEATHERdata.xlsx'\n",
    "# Load spreadsheet\n",
    "xl = pd.ExcelFile(file)\n",
    "\n",
    "# Print the sheet names\n",
    "print(xl.sheet_names)\n",
    "\n",
    "# Load a sheet into a DataFrame by name: df1\n",
    "weather = xl.parse('Sheet1')"
   ]
  },
  {
   "cell_type": "markdown",
   "metadata": {},
   "source": [
    "# <font color=brown>Functions Section</font>"
   ]
  },
  {
   "cell_type": "markdown",
   "metadata": {},
   "source": [
    "## Data Clean, Index, and Fix column names  \n",
    "1. The first three rows don't contain data \n",
    "2. The last three rows don't contain data\n",
    "3. Make Date column in index\n",
    "4. Fix the name of columns\n",
    "5. Delete rows where Tag_Name is nan"
   ]
  },
  {
   "cell_type": "code",
   "execution_count": 19,
   "metadata": {},
   "outputs": [],
   "source": [
    "# Function to Pre-Clean the data\n",
    "def preclean(df):\n",
    "    df.drop(df.head(3).index,inplace=True)                   # Drop the first three rows\n",
    "    df=df[:-3]                                               # Drop the last three rows\n",
    "    df = df.set_index(['Date'])                              # Transform Date column in index        \n",
    "    df.index.name = None\n",
    "    df.columns = df.columns.str.replace(' ', '_')            # Fix Column name: Fill spaces with _\n",
    "    df['Value'] = pd.to_numeric(df.Value, errors='coerce')   # Convert Value column to float\n",
    "    df = df[pd.notnull(df['Tag_Name'])]                      # Delete rows where Tag_Name is nan\n",
    "    return df;"
   ]
  },
  {
   "cell_type": "markdown",
   "metadata": {},
   "source": [
    "## Function: drop the columns with unique values equal to ONE"
   ]
  },
  {
   "cell_type": "code",
   "execution_count": 20,
   "metadata": {},
   "outputs": [],
   "source": [
    "def dropUniqueOne(dataset):\n",
    "    xx=dataset.nunique()                           # Extract the information of the unique value for each colunm\n",
    "    xx = pd.DataFrame(xx)                          # Transform in a DataFrame\n",
    "    ColName= xx.index.values[xx[0] == 1]           # Take the name of the columns with unique value equal ONE\n",
    "    dataset = dataset.drop(ColName, axis=1)        # Make a DataFrame with only the columns with more than one unique value\n",
    "    return dataset;"
   ]
  },
  {
   "cell_type": "markdown",
   "metadata": {},
   "source": [
    "# <font color=brown>MAIN CODE</font>"
   ]
  },
  {
   "cell_type": "markdown",
   "metadata": {},
   "source": [
    "##  <font color=green>Energy</font>"
   ]
  },
  {
   "cell_type": "markdown",
   "metadata": {},
   "source": [
    "## Preclean"
   ]
  },
  {
   "cell_type": "code",
   "execution_count": 31,
   "metadata": {},
   "outputs": [],
   "source": [
    "# Merge the two Datasets\n",
    "df1=preclean(EA_0103)\n",
    "df2=preclean(EA_04)\n",
    "df3=preclean(EA_05)\n",
    "df4=preclean(EA_06)\n",
    "df5=preclean(EA_0712)\n",
    "df =pd.concat([df1,df2,df3,df4,df5])"
   ]
  },
  {
   "cell_type": "markdown",
   "metadata": {},
   "source": [
    "## Energy Files: Identify the distinct Ciurcuit and Consumption Types"
   ]
  },
  {
   "cell_type": "code",
   "execution_count": 32,
   "metadata": {},
   "outputs": [],
   "source": [
    "# Drop Columns with only one distinct value\n",
    "df = dropUniqueOne(df)\n",
    "energy = df\n",
    "energy.Circuit.unique()\n",
    "energy.Consumption.unique()"
   ]
  },
  {
   "cell_type": "markdown",
   "metadata": {},
   "source": [
    "### Mount datasets for each Circuit type"
   ]
  },
  {
   "cell_type": "code",
   "execution_count": 41,
   "metadata": {},
   "outputs": [],
   "source": [
    "AVAC_P1Par = energy[energy['Value'].notnull() & (energy['Circuit'] == \"AVAC - Piso 1\") & (energy['Consumption'] == \"Partial\")]\n",
    "AVAC_RCPar = energy[energy['Value'].notnull() & (energy['Circuit'] == \"AVAC - R/C\") & (energy['Consumption'] == \"Partial\")]\n",
    "GerAgg = energy[energy['Value'].notnull() & (energy['Circuit'] == \"Geral\") & (energy['Consumption'] == \"Aggregated\")]"
   ]
  },
  {
   "cell_type": "code",
   "execution_count": 52,
   "metadata": {},
   "outputs": [],
   "source": [
    "test = pd.merge(AVAC_RCPar, AVAC_P1Par, right_index=True, left_index=True)\n",
    "test.columns = ['AvacRC', 'ConsumptionRC','CircuitRC', 'AvacPiso1','ConsumptionPiso1','CircuitPiso1']\n",
    "test2= pd.merge(test, GerAgg, right_index=True, left_index=True)\n",
    "energyAll = test2\n",
    "energyAll.rename(columns={'Value':'Geral',\n",
    "                          'Consumption':'ConsumptionGer',\n",
    "                          'Circuit':'CircuitGer'}, \n",
    "                 inplace=True)"
   ]
  },
  {
   "cell_type": "markdown",
   "metadata": {},
   "source": [
    "# <font color=green>Weather</font>"
   ]
  },
  {
   "cell_type": "markdown",
   "metadata": {},
   "source": [
    "## Preclean"
   ]
  },
  {
   "cell_type": "code",
   "execution_count": 54,
   "metadata": {},
   "outputs": [],
   "source": [
    "weather = preclean(weather)"
   ]
  },
  {
   "cell_type": "markdown",
   "metadata": {},
   "source": [
    "## Mount different dataset for each tag_name"
   ]
  },
  {
   "cell_type": "code",
   "execution_count": 56,
   "metadata": {},
   "outputs": [],
   "source": [
    "df = dropUniqueOne(weather)"
   ]
  },
  {
   "cell_type": "code",
   "execution_count": 60,
   "metadata": {},
   "outputs": [
    {
     "data": {
      "text/plain": [
       "array(['Humidity', 'Temperature'], dtype=object)"
      ]
     },
     "execution_count": 60,
     "metadata": {},
     "output_type": "execute_result"
    }
   ],
   "source": [
    "df.Tag_Name.unique()"
   ]
  },
  {
   "cell_type": "code",
   "execution_count": 66,
   "metadata": {},
   "outputs": [],
   "source": [
    "temperature = df[\"Tag_Name\"] == \"Temperature\"\n",
    "temperature = df[temperature]\n",
    "\n",
    "humidity = df[\"Tag_Name\"] == \"Humidity\"\n",
    "humidity = df[humidity]"
   ]
  },
  {
   "cell_type": "markdown",
   "metadata": {},
   "source": [
    "## Merge humidity and temperature"
   ]
  },
  {
   "cell_type": "code",
   "execution_count": 68,
   "metadata": {},
   "outputs": [],
   "source": [
    "humtemp = pd.merge(humidity,temperature,right_index=True, left_index=True)\n",
    "humtemp.columns = ['TagHum', 'Humidity','TagTemp', 'Temperature']"
   ]
  },
  {
   "cell_type": "markdown",
   "metadata": {},
   "source": [
    "# Calculate Heating Degree Days and Cooling Degree Days\n",
    "- Heating = 15\n",
    "   - If temperature is less or equal to 15ºC we need to heat the room for it take a 18ºc of temperature So HDD = 18-Text if Text<= 15ºC otherwhise HDD = 0\n",
    "- Cooling= 18\n",
    "   - If temperature is higher or equal to 24ºC we need to cool the room for it take a 21ºC of temperature So CDD = Text-21 if Text>= 24ºC otherwhise CDD = 0"
   ]
  },
  {
   "cell_type": "code",
   "execution_count": 147,
   "metadata": {},
   "outputs": [],
   "source": [
    "HDD = map(lambda x: 18-x if x<=15 else 0, humtemp['Temperature'])  \n",
    "CDD = map(lambda x: x-21 if x>=24 else 0, humtemp['Temperature'])  \n",
    "humtemp['HDD'] = list(HDD)\n",
    "humtemp['CDD'] = list(CDD)"
   ]
  },
  {
   "cell_type": "code",
   "execution_count": 148,
   "metadata": {},
   "outputs": [
    {
     "data": {
      "text/html": [
       "<div>\n",
       "<style scoped>\n",
       "    .dataframe tbody tr th:only-of-type {\n",
       "        vertical-align: middle;\n",
       "    }\n",
       "\n",
       "    .dataframe tbody tr th {\n",
       "        vertical-align: top;\n",
       "    }\n",
       "\n",
       "    .dataframe thead th {\n",
       "        text-align: right;\n",
       "    }\n",
       "</style>\n",
       "<table border=\"1\" class=\"dataframe\">\n",
       "  <thead>\n",
       "    <tr style=\"text-align: right;\">\n",
       "      <th></th>\n",
       "      <th>TagHum</th>\n",
       "      <th>Humidity</th>\n",
       "      <th>TagTemp</th>\n",
       "      <th>Temperature</th>\n",
       "      <th>HDD</th>\n",
       "      <th>CDD</th>\n",
       "    </tr>\n",
       "  </thead>\n",
       "  <tbody>\n",
       "    <tr>\n",
       "      <th>2018-01-01 00:00:00</th>\n",
       "      <td>Humidity</td>\n",
       "      <td>95.00000</td>\n",
       "      <td>Temperature</td>\n",
       "      <td>7.85000</td>\n",
       "      <td>10.15000</td>\n",
       "      <td>0.0</td>\n",
       "    </tr>\n",
       "    <tr>\n",
       "      <th>2018-01-01 01:00:00</th>\n",
       "      <td>Humidity</td>\n",
       "      <td>94.66667</td>\n",
       "      <td>Temperature</td>\n",
       "      <td>7.63333</td>\n",
       "      <td>10.36667</td>\n",
       "      <td>0.0</td>\n",
       "    </tr>\n",
       "    <tr>\n",
       "      <th>2018-01-01 02:00:00</th>\n",
       "      <td>Humidity</td>\n",
       "      <td>95.00000</td>\n",
       "      <td>Temperature</td>\n",
       "      <td>7.37500</td>\n",
       "      <td>10.62500</td>\n",
       "      <td>0.0</td>\n",
       "    </tr>\n",
       "    <tr>\n",
       "      <th>2018-01-01 03:00:00</th>\n",
       "      <td>Humidity</td>\n",
       "      <td>95.00000</td>\n",
       "      <td>Temperature</td>\n",
       "      <td>7.40000</td>\n",
       "      <td>10.60000</td>\n",
       "      <td>0.0</td>\n",
       "    </tr>\n",
       "    <tr>\n",
       "      <th>2018-01-01 04:00:00</th>\n",
       "      <td>Humidity</td>\n",
       "      <td>94.75000</td>\n",
       "      <td>Temperature</td>\n",
       "      <td>7.30000</td>\n",
       "      <td>10.70000</td>\n",
       "      <td>0.0</td>\n",
       "    </tr>\n",
       "  </tbody>\n",
       "</table>\n",
       "</div>"
      ],
      "text/plain": [
       "                       TagHum  Humidity      TagTemp  Temperature       HDD  \\\n",
       "2018-01-01 00:00:00  Humidity  95.00000  Temperature      7.85000  10.15000   \n",
       "2018-01-01 01:00:00  Humidity  94.66667  Temperature      7.63333  10.36667   \n",
       "2018-01-01 02:00:00  Humidity  95.00000  Temperature      7.37500  10.62500   \n",
       "2018-01-01 03:00:00  Humidity  95.00000  Temperature      7.40000  10.60000   \n",
       "2018-01-01 04:00:00  Humidity  94.75000  Temperature      7.30000  10.70000   \n",
       "\n",
       "                     CDD  \n",
       "2018-01-01 00:00:00  0.0  \n",
       "2018-01-01 01:00:00  0.0  \n",
       "2018-01-01 02:00:00  0.0  \n",
       "2018-01-01 03:00:00  0.0  \n",
       "2018-01-01 04:00:00  0.0  "
      ]
     },
     "execution_count": 148,
     "metadata": {},
     "output_type": "execute_result"
    }
   ],
   "source": [
    "humtemp.head()"
   ]
  },
  {
   "cell_type": "markdown",
   "metadata": {},
   "source": [
    "# <font color=green>Energy and Weather together </font>\n",
    "- Energy [kWh]\n",
    "- Humidity [%]\n",
    "- Temperature [ºC]"
   ]
  },
  {
   "cell_type": "code",
   "execution_count": 149,
   "metadata": {},
   "outputs": [],
   "source": [
    "energyweather=pd.merge(energyAll, humtemp, right_index=True, left_index=True)"
   ]
  },
  {
   "cell_type": "code",
   "execution_count": 150,
   "metadata": {},
   "outputs": [
    {
     "data": {
      "text/html": [
       "<div>\n",
       "<style scoped>\n",
       "    .dataframe tbody tr th:only-of-type {\n",
       "        vertical-align: middle;\n",
       "    }\n",
       "\n",
       "    .dataframe tbody tr th {\n",
       "        vertical-align: top;\n",
       "    }\n",
       "\n",
       "    .dataframe thead th {\n",
       "        text-align: right;\n",
       "    }\n",
       "</style>\n",
       "<table border=\"1\" class=\"dataframe\">\n",
       "  <thead>\n",
       "    <tr style=\"text-align: right;\">\n",
       "      <th></th>\n",
       "      <th>AvacRC</th>\n",
       "      <th>ConsumptionRC</th>\n",
       "      <th>CircuitRC</th>\n",
       "      <th>AvacPiso1</th>\n",
       "      <th>ConsumptionPiso1</th>\n",
       "      <th>CircuitPiso1</th>\n",
       "      <th>Geral</th>\n",
       "      <th>ConsumptionGer</th>\n",
       "      <th>CircuitGer</th>\n",
       "      <th>TagHum</th>\n",
       "      <th>Humidity</th>\n",
       "      <th>TagTemp</th>\n",
       "      <th>Temperature</th>\n",
       "      <th>HDD</th>\n",
       "      <th>CDD</th>\n",
       "    </tr>\n",
       "  </thead>\n",
       "  <tbody>\n",
       "    <tr>\n",
       "      <th>2018-01-01 00:00:00</th>\n",
       "      <td>1.6</td>\n",
       "      <td>Partial</td>\n",
       "      <td>AVAC - R/C</td>\n",
       "      <td>0.2</td>\n",
       "      <td>Partial</td>\n",
       "      <td>AVAC - Piso 1</td>\n",
       "      <td>3.7</td>\n",
       "      <td>Aggregated</td>\n",
       "      <td>Geral</td>\n",
       "      <td>Humidity</td>\n",
       "      <td>95.00000</td>\n",
       "      <td>Temperature</td>\n",
       "      <td>7.85000</td>\n",
       "      <td>10.15000</td>\n",
       "      <td>0.0</td>\n",
       "    </tr>\n",
       "    <tr>\n",
       "      <th>2018-01-01 01:00:00</th>\n",
       "      <td>1.5</td>\n",
       "      <td>Partial</td>\n",
       "      <td>AVAC - R/C</td>\n",
       "      <td>0.3</td>\n",
       "      <td>Partial</td>\n",
       "      <td>AVAC - Piso 1</td>\n",
       "      <td>3.8</td>\n",
       "      <td>Aggregated</td>\n",
       "      <td>Geral</td>\n",
       "      <td>Humidity</td>\n",
       "      <td>94.66667</td>\n",
       "      <td>Temperature</td>\n",
       "      <td>7.63333</td>\n",
       "      <td>10.36667</td>\n",
       "      <td>0.0</td>\n",
       "    </tr>\n",
       "    <tr>\n",
       "      <th>2018-01-01 02:00:00</th>\n",
       "      <td>1.5</td>\n",
       "      <td>Partial</td>\n",
       "      <td>AVAC - R/C</td>\n",
       "      <td>0.3</td>\n",
       "      <td>Partial</td>\n",
       "      <td>AVAC - Piso 1</td>\n",
       "      <td>3.7</td>\n",
       "      <td>Aggregated</td>\n",
       "      <td>Geral</td>\n",
       "      <td>Humidity</td>\n",
       "      <td>95.00000</td>\n",
       "      <td>Temperature</td>\n",
       "      <td>7.37500</td>\n",
       "      <td>10.62500</td>\n",
       "      <td>0.0</td>\n",
       "    </tr>\n",
       "    <tr>\n",
       "      <th>2018-01-01 03:00:00</th>\n",
       "      <td>1.5</td>\n",
       "      <td>Partial</td>\n",
       "      <td>AVAC - R/C</td>\n",
       "      <td>0.3</td>\n",
       "      <td>Partial</td>\n",
       "      <td>AVAC - Piso 1</td>\n",
       "      <td>3.8</td>\n",
       "      <td>Aggregated</td>\n",
       "      <td>Geral</td>\n",
       "      <td>Humidity</td>\n",
       "      <td>95.00000</td>\n",
       "      <td>Temperature</td>\n",
       "      <td>7.40000</td>\n",
       "      <td>10.60000</td>\n",
       "      <td>0.0</td>\n",
       "    </tr>\n",
       "    <tr>\n",
       "      <th>2018-01-01 04:00:00</th>\n",
       "      <td>1.5</td>\n",
       "      <td>Partial</td>\n",
       "      <td>AVAC - R/C</td>\n",
       "      <td>0.3</td>\n",
       "      <td>Partial</td>\n",
       "      <td>AVAC - Piso 1</td>\n",
       "      <td>3.7</td>\n",
       "      <td>Aggregated</td>\n",
       "      <td>Geral</td>\n",
       "      <td>Humidity</td>\n",
       "      <td>94.75000</td>\n",
       "      <td>Temperature</td>\n",
       "      <td>7.30000</td>\n",
       "      <td>10.70000</td>\n",
       "      <td>0.0</td>\n",
       "    </tr>\n",
       "  </tbody>\n",
       "</table>\n",
       "</div>"
      ],
      "text/plain": [
       "                     AvacRC ConsumptionRC   CircuitRC  AvacPiso1  \\\n",
       "2018-01-01 00:00:00     1.6       Partial  AVAC - R/C        0.2   \n",
       "2018-01-01 01:00:00     1.5       Partial  AVAC - R/C        0.3   \n",
       "2018-01-01 02:00:00     1.5       Partial  AVAC - R/C        0.3   \n",
       "2018-01-01 03:00:00     1.5       Partial  AVAC - R/C        0.3   \n",
       "2018-01-01 04:00:00     1.5       Partial  AVAC - R/C        0.3   \n",
       "\n",
       "                    ConsumptionPiso1   CircuitPiso1  Geral ConsumptionGer  \\\n",
       "2018-01-01 00:00:00          Partial  AVAC - Piso 1    3.7     Aggregated   \n",
       "2018-01-01 01:00:00          Partial  AVAC - Piso 1    3.8     Aggregated   \n",
       "2018-01-01 02:00:00          Partial  AVAC - Piso 1    3.7     Aggregated   \n",
       "2018-01-01 03:00:00          Partial  AVAC - Piso 1    3.8     Aggregated   \n",
       "2018-01-01 04:00:00          Partial  AVAC - Piso 1    3.7     Aggregated   \n",
       "\n",
       "                    CircuitGer    TagHum  Humidity      TagTemp  Temperature  \\\n",
       "2018-01-01 00:00:00      Geral  Humidity  95.00000  Temperature      7.85000   \n",
       "2018-01-01 01:00:00      Geral  Humidity  94.66667  Temperature      7.63333   \n",
       "2018-01-01 02:00:00      Geral  Humidity  95.00000  Temperature      7.37500   \n",
       "2018-01-01 03:00:00      Geral  Humidity  95.00000  Temperature      7.40000   \n",
       "2018-01-01 04:00:00      Geral  Humidity  94.75000  Temperature      7.30000   \n",
       "\n",
       "                          HDD  CDD  \n",
       "2018-01-01 00:00:00  10.15000  0.0  \n",
       "2018-01-01 01:00:00  10.36667  0.0  \n",
       "2018-01-01 02:00:00  10.62500  0.0  \n",
       "2018-01-01 03:00:00  10.60000  0.0  \n",
       "2018-01-01 04:00:00  10.70000  0.0  "
      ]
     },
     "execution_count": 150,
     "metadata": {},
     "output_type": "execute_result"
    }
   ],
   "source": [
    "energyweather.head()"
   ]
  },
  {
   "cell_type": "markdown",
   "metadata": {},
   "source": [
    "# Correlation plot"
   ]
  },
  {
   "cell_type": "code",
   "execution_count": 151,
   "metadata": {},
   "outputs": [],
   "source": [
    "#select columns of dataframe\n",
    "corrplot= energyweather[['AvacRC','AvacPiso1','Geral','Humidity','Temperature', 'HDD', 'CDD']]"
   ]
  },
  {
   "cell_type": "code",
   "execution_count": 152,
   "metadata": {},
   "outputs": [],
   "source": [
    "correlations = corrplot.corr()"
   ]
  },
  {
   "cell_type": "code",
   "execution_count": 154,
   "metadata": {},
   "outputs": [
    {
     "data": {
      "image/png": "[encoded data removed]",
      "text/plain": [
       "<Figure size 1080x720 with 2 Axes>"
      ]
     },
     "metadata": {
      "needs_background": "light"
     },
     "output_type": "display_data"
    }
   ],
   "source": [
    "names = ['AvacRC','AvacPiso1','Geral','Humidity','Temperature','HDD', 'CDD']\n",
    "fig = plt.figure(figsize=(15,10))\n",
    "ax = fig.add_subplot(111)\n",
    "cax = ax.matshow(correlations, vmin=-1, vmax=1)\n",
    "fig.colorbar(cax)\n",
    "ticks = np.arange(0,7,1)\n",
    "ax.set_xticks(ticks)\n",
    "ax.set_yticks(ticks)\n",
    "ax.set_xticklabels(names)\n",
    "ax.set_yticklabels(names)\n",
    "plt.show()"
   ]
  },
  {
   "cell_type": "code",
   "execution_count": 155,
   "metadata": {},
   "outputs": [
    {
     "data": {
      "image/png": "[encoded data removed]",
      "text/plain": [
       "<Figure size 1080x720 with 2 Axes>"
      ]
     },
     "metadata": {
      "needs_background": "light"
     },
     "output_type": "display_data"
    }
   ],
   "source": [
    "plt.figure(figsize=(15,10))\n",
    "sns.heatmap(correlations, vmax=1., square=True, annot=True, fmt=\".2f\").xaxis.tick_top()"
   ]
  },
  {
   "cell_type": "markdown",
   "metadata": {},
   "source": [
    "## Treatment of Negative Values"
   ]
  },
  {
   "cell_type": "code",
   "execution_count": 83,
   "metadata": {},
   "outputs": [
    {
     "data": {
      "text/plain": [
       "['ConsumptionRC',\n",
       " 'CircuitRC',\n",
       " 'AvacPiso1',\n",
       " 'ConsumptionPiso1',\n",
       " 'CircuitPiso1',\n",
       " 'Geral',\n",
       " 'ConsumptionGer',\n",
       " 'CircuitGer',\n",
       " 'TagHum',\n",
       " 'Humidity',\n",
       " 'TagTemp',\n",
       " 'Temperature']"
      ]
     },
     "execution_count": 83,
     "metadata": {},
     "output_type": "execute_result"
    }
   ],
   "source": [
    "energyweather.columns.tolist()[1:]"
   ]
  },
  {
   "cell_type": "code",
   "execution_count": 89,
   "metadata": {},
   "outputs": [],
   "source": [
    "types = energyweather.dtypes "
   ]
  },
  {
   "cell_type": "code",
   "execution_count": 105,
   "metadata": {},
   "outputs": [],
   "source": [
    "for col in types[types == 'float64'].index:\n",
    "    data = energyweather.loc[energyweather[col] < 0]\n",
    "    data"
   ]
  },
  {
   "cell_type": "code",
   "execution_count": 114,
   "metadata": {},
   "outputs": [],
   "source": [
    "tt = energyweather.describe().loc['min'] \n",
    "tt1 = tt[tt<0]"
   ]
  },
  {
   "cell_type": "code",
   "execution_count": 126,
   "metadata": {},
   "outputs": [
    {
     "ename": "AttributeError",
     "evalue": "'_LocIndexer' object has no attribute 'list'",
     "output_type": "error",
     "traceback": [
      "\u001b[1;31m---------------------------------------------------------------------------\u001b[0m",
      "\u001b[1;31mAttributeError\u001b[0m                            Traceback (most recent call last)",
      "\u001b[1;32m<ipython-input-126-9b0d50865bcd>\u001b[0m in \u001b[0;36m<module>\u001b[1;34m()\u001b[0m\n\u001b[1;32m----> 1\u001b[1;33m \u001b[0mtt1\u001b[0m\u001b[1;33m.\u001b[0m\u001b[0mloc\u001b[0m\u001b[1;33m.\u001b[0m\u001b[0mlist\u001b[0m\u001b[1;33m(\u001b[0m\u001b[1;33m)\u001b[0m\u001b[1;33m\u001b[0m\u001b[0m\n\u001b[0m",
      "\u001b[1;31mAttributeError\u001b[0m: '_LocIndexer' object has no attribute 'list'"
     ]
    }
   ],
   "source": [
    "tt1.loc.list()"
   ]
  }
 ],
 "metadata": {
  "kernelspec": {
   "display_name": "Python 3",
   "language": "python",
   "name": "python3"
  },
  "language_info": {
   "codemirror_mode": {
    "name": "ipython",
    "version": 3
   },
   "file_extension": ".py",
   "mimetype": "text/x-python",
   "name": "python",
   "nbconvert_exporter": "python",
   "pygments_lexer": "ipython3",
   "version": "3.7.0"
  }
 },
 "nbformat": 4,
 "nbformat_minor": 2
}
